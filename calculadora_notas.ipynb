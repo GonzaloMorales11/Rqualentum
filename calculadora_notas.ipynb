{
 "cells": [
  {
   "cell_type": "code",
   "execution_count": 1,
   "metadata": {},
   "outputs": [],
   "source": [
    "import random\n",
    "\n",
    "# Definir una lista de puntuaciones aleatorias\n",
    "puntuaciones = [random.randint(1, 100) for _ in range(5)]\n",
    "\n",
    "def calcular_promedio_puntuaciones(lista):\n",
    "    suma=0\n",
    "    for puntuacion in lista:\n",
    "        suma += puntuacion\n",
    "    return suma / len(lista)\n",
    "\n",
    "def calcular_puntuacion_maxima(lista):\n",
    "    max_puntuacion=lista[0]\n",
    "    for puntuacion in lista:\n",
    "        if puntuacion>max_puntuacion:\n",
    "            max_puntuacion=puntuacion\n",
    "    return max_puntuacion\n",
    "\n",
    "def calcular_total_puntuaciones(lista):\n",
    "    suma_total=0\n",
    "    for puntuacion in lista:\n",
    "        suma_total += puntuacion \n",
    "        return suma_total\n",
    "\n",
    "promedio = calcular_promedio_puntuaciones(puntuaciones)\n",
    "maxima = calcular_puntuacion_maxima(puntuaciones)\n",
    "total = calcular_total_puntuaciones(puntuaciones)\n",
    "\n",
    "# Imprimir los resultados\n",
    "print(f\"Puntuaciones: {puntuaciones}\")\n",
    "print(f\"Promedio de puntuaciones: {promedio}\")\n",
    "print(f\"Puntuación máxima: {maxima}\")\n",
    "print(f\"Total de puntuaciones: {total}\")"
   ]
  }
 ],
 "metadata": {
  "kernelspec": {
   "display_name": "Python 3",
   "language": "python",
   "name": "python3"
  },
  "language_info": {
   "codemirror_mode": {
    "name": "ipython",
    "version": 3
   },
   "file_extension": ".py",
   "mimetype": "text/x-python",
   "name": "python",
   "nbconvert_exporter": "python",
   "pygments_lexer": "ipython3",
   "version": "3.9.6"
  }
 },
 "nbformat": 4,
 "nbformat_minor": 2
}
